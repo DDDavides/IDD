{
 "cells": [
  {
   "cell_type": "code",
   "execution_count": 36,
   "metadata": {},
   "outputs": [],
   "source": [
    "import pandas as pd\n",
    "from statistics import mean"
   ]
  },
  {
   "cell_type": "code",
   "execution_count": 37,
   "metadata": {},
   "outputs": [],
   "source": [
    "import json\n",
    "from typing import List"
   ]
  },
  {
   "cell_type": "code",
   "execution_count": 38,
   "metadata": {},
   "outputs": [],
   "source": [
    "path = \"stats.json\""
   ]
  },
  {
   "cell_type": "code",
   "execution_count": 39,
   "metadata": {},
   "outputs": [],
   "source": [
    "datas = pd.read_json(path, lines=True)"
   ]
  },
  {
   "cell_type": "code",
   "execution_count": 40,
   "metadata": {},
   "outputs": [
    {
     "name": "stdout",
     "output_type": "stream",
     "text": [
      "550271\n",
      "18.20436839302816\n",
      "4.487583390729295\n",
      "['katab', 'write', 'ʼaktubu', 'taktubīna', 'taktubu', 'taktubu', 'yaktubu', 'taktubāni', 'taktubāni', 'yaktubāni', 'naktubu', 'taktubūna', 'taktubna', 'yaktubūna', 'yaktubna']\n",
      "0.0003234769777073478\n"
     ]
    }
   ],
   "source": [
    "from cmath import nan\n",
    "\n",
    "\n",
    "print(len(datas))\n",
    "print((datas[\"numRows\"]).mean())\n",
    "print((datas[\"numColumns\"]).mean())\n",
    "nnan = 0\n",
    "print((datas[\"columns2dataColumn\"][0])[\"Arabic\"])\n",
    "# for e in datas[\"columns2dataColumn\"][0]:\n",
    "#     for l in e:\n",
    "#         #print(((datas[\"columns2dataColumn\"][0])[e])[l])\n",
    "for i in range(len(datas)):\n",
    "    for e in datas[\"columns2dataColumn\"][i]:\n",
    "        for l in (datas[\"columns2dataColumn\"][i])[e]:\n",
    "            if l == \"Nan\":\n",
    "                nnan = nnan + 1.0\n",
    "print(nnan / len(datas))"
   ]
  }
 ],
 "metadata": {
  "kernelspec": {
   "display_name": "Python 3.8.13 ('dlenv')",
   "language": "python",
   "name": "python3"
  },
  "language_info": {
   "codemirror_mode": {
    "name": "ipython",
    "version": 3
   },
   "file_extension": ".py",
   "mimetype": "text/x-python",
   "name": "python",
   "nbconvert_exporter": "python",
   "pygments_lexer": "ipython3",
   "version": "3.8.13"
  },
  "orig_nbformat": 4,
  "vscode": {
   "interpreter": {
    "hash": "e21d7e22773fa04c0c154aba3df5d14f691f6a46c7c50a4150a0567bbfb05b29"
   }
  }
 },
 "nbformat": 4,
 "nbformat_minor": 2
}
