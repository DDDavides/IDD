{
 "cells": [
  {
   "cell_type": "code",
   "execution_count": null,
   "metadata": {},
   "outputs": [],
   "source": [
    "import pandas as pd\n",
    "from statistics import mean\n",
    "import numpy as np"
   ]
  },
  {
   "cell_type": "code",
   "execution_count": null,
   "metadata": {},
   "outputs": [],
   "source": [
    "import json\n",
    "from typing import List"
   ]
  },
  {
   "cell_type": "code",
   "execution_count": null,
   "metadata": {},
   "outputs": [],
   "source": [
    "path = \"stats.json\""
   ]
  },
  {
   "cell_type": "code",
   "execution_count": null,
   "metadata": {},
   "outputs": [],
   "source": [
    "datas = pd.read_json(path, lines=True)"
   ]
  },
  {
   "cell_type": "code",
   "execution_count": null,
   "metadata": {},
   "outputs": [],
   "source": [
    "# metodo che calcola il numero di elementi diversi per ciascuna colonna e il numero di valori\n",
    "# nulli totali del dataset\n",
    "def calculateDifferentValueForColumnAndNumberOfNan(dataset, column2differentvalues, numberOfNan=0):\n",
    "    # per ogni tabella del dataset\n",
    "    for i in range(len(dataset)):\n",
    "        columnsnames = list((dataset[\"columns2dataColumn\"][i]))\n",
    "        # per ogni colonna della tabella\n",
    "        for e in range(len(columnsnames)):\n",
    "            columnelems = list((dataset[\"columns2dataColumn\"][i])[columnsnames[e]])\n",
    "            columnmap = dict()\n",
    "            # scorri la lista di elementi della colonna\n",
    "            for l in range(len(columnelems)):\n",
    "                # se il valore è nullo incrementa la variabille di nan\n",
    "                if columnelems[l] == \"Nan\":\n",
    "                    numberOfNan = numberOfNan + 1.0\n",
    "                # aggiorna la mappa di termini della colonna\n",
    "                columnmap.update({columnelems[l]: 1})\n",
    "            # aggiorna la mappa colonna numero di elementi diversi\n",
    "            table_column = dataset[\"id\"][i] + columnsnames[e]\n",
    "            column2differentvalues.update({table_column: len(columnmap.keys())})"
   ]
  },
  {
   "cell_type": "code",
   "execution_count": null,
   "metadata": {},
   "outputs": [],
   "source": [
    "totRows = len(datas)\n",
    "avgRows = (datas[\"numRows\"]).mean()\n",
    "avgColumns = (datas[\"numColumns\"]).mean()\n",
    "nnan = 0\n",
    "column2differentvalues = dict()\n",
    "calculateDifferentValueForColumnAndNumberOfNan(datas, column2differentvalues, nnan)\n",
    "avgNan = (nnan / len(datas))"
   ]
  },
  {
   "cell_type": "code",
   "execution_count": null,
   "metadata": {},
   "outputs": [],
   "source": [
    "print(\"Numero totale di tabelle: \", totRows)\n",
    "print(\"Numero medio di righe\", avgRows)\n",
    "print(\"Numero medio di colonne\", avgColumns)\n",
    "print(\"Numero medio di valori nulli\", avgNan)\n",
    "#print(column2differentvalues)"
   ]
  },
  {
   "cell_type": "code",
   "execution_count": null,
   "metadata": {},
   "outputs": [],
   "source": [
    "column2diff = pd.Series(column2differentvalues.values())"
   ]
  },
  {
   "cell_type": "code",
   "execution_count": null,
   "metadata": {},
   "outputs": [],
   "source": [
    "import matplotlib as plt\n",
    "from matplotlib.pyplot import grid\n",
    "\n",
    "print(column2diff[:])\n"
   ]
  },
  {
   "cell_type": "markdown",
   "metadata": {},
   "source": [
    "Plot della distribuzione del numero di righe"
   ]
  },
  {
   "cell_type": "code",
   "execution_count": null,
   "metadata": {},
   "outputs": [],
   "source": [
    "numrows_distr = datas[\"numRows\"].plot.hist(bins=6000, grid=True, color='#607c8e', rwidth=0.9)\n",
    "numrows_distr.set_xlim(0, 50)"
   ]
  },
  {
   "cell_type": "markdown",
   "metadata": {},
   "source": [
    "Plot del numero di valori diversi per colonna"
   ]
  },
  {
   "cell_type": "code",
   "execution_count": null,
   "metadata": {},
   "outputs": [],
   "source": [
    "numcolumns_distr = datas[\"numColumns\"].plot.hist(bins=30000, grid=True, color='#607c8e', rwidth=0.9)\n",
    "numcolumns_distr.set_xlim(0, 25)"
   ]
  },
  {
   "cell_type": "code",
   "execution_count": null,
   "metadata": {},
   "outputs": [],
   "source": [
    "coldiff = column2diff.plot.hist(bins=6000, grid=True, color='#607c8e', rwidth=0.9)\n",
    "coldiff.set_xlim(0, 50)"
   ]
  },
  {
   "cell_type": "code",
   "execution_count": null,
   "metadata": {},
   "outputs": [],
   "source": [
    "numrows2count = dict()\n",
    "for row in datas[\"numRows\"]:\n",
    "    if numrows2count.get(row):\n",
    "        numrows2count[row] = numrows2count.get(row) + 1\n",
    "    else:\n",
    "        numrows2count[row] = 1\n",
    "numrows2count = pd.DataFrame(numrows2count, index=[0])\n",
    "print(numrows2count)\n",
    "#numrows2count.plot.pie(subplots=True)"
   ]
  },
  {
   "cell_type": "code",
   "execution_count": null,
   "metadata": {},
   "outputs": [],
   "source": []
  }
 ],
 "metadata": {
  "kernelspec": {
   "display_name": "Python 3.8.13 ('dlenv')",
   "language": "python",
   "name": "python3"
  },
  "language_info": {
   "codemirror_mode": {
    "name": "ipython",
    "version": 3
   },
   "file_extension": ".py",
   "mimetype": "text/x-python",
   "name": "python",
   "nbconvert_exporter": "python",
   "pygments_lexer": "ipython3",
   "version": "3.8.13"
  },
  "orig_nbformat": 4,
  "vscode": {
   "interpreter": {
    "hash": "e21d7e22773fa04c0c154aba3df5d14f691f6a46c7c50a4150a0567bbfb05b29"
   }
  }
 },
 "nbformat": 4,
 "nbformat_minor": 2
}
